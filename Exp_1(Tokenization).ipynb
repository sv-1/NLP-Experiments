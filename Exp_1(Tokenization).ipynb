{
  "nbformat": 4,
  "nbformat_minor": 0,
  "metadata": {
    "colab": {
      "provenance": []
    },
    "kernelspec": {
      "name": "python3",
      "display_name": "Python 3"
    },
    "language_info": {
      "name": "python"
    }
  },
  "cells": [
    {
      "cell_type": "code",
      "source": [
        "# Install NLTK\n",
        "!pip install nltk\n",
        "\n",
        "# Import necessary libraries\n",
        "import nltk\n",
        "from nltk.tokenize import word_tokenize, sent_tokenize, regexp_tokenize, TweetTokenizer, WordPunctTokenizer\n"
      ],
      "metadata": {
        "colab": {
          "base_uri": "https://localhost:8080/"
        },
        "id": "_wpaOyd0gQNn",
        "outputId": "4ca4db11-744d-4c49-cacb-84a6aec11690"
      },
      "execution_count": null,
      "outputs": [
        {
          "output_type": "stream",
          "name": "stdout",
          "text": [
            "Requirement already satisfied: nltk in /usr/local/lib/python3.10/dist-packages (3.8.1)\n",
            "Requirement already satisfied: click in /usr/local/lib/python3.10/dist-packages (from nltk) (8.1.7)\n",
            "Requirement already satisfied: joblib in /usr/local/lib/python3.10/dist-packages (from nltk) (1.3.2)\n",
            "Requirement already satisfied: regex>=2021.8.3 in /usr/local/lib/python3.10/dist-packages (from nltk) (2023.12.25)\n",
            "Requirement already satisfied: tqdm in /usr/local/lib/python3.10/dist-packages (from nltk) (4.66.1)\n"
          ]
        }
      ]
    },
    {
      "cell_type": "code",
      "source": [
        "# Download NLTK resources\n",
        "nltk.download('punkt')"
      ],
      "metadata": {
        "colab": {
          "base_uri": "https://localhost:8080/"
        },
        "id": "I1PWljW8gUpP",
        "outputId": "d0346497-cb44-484e-d740-4985e5d88024"
      },
      "execution_count": null,
      "outputs": [
        {
          "output_type": "stream",
          "name": "stderr",
          "text": [
            "[nltk_data] Downloading package punkt to /root/nltk_data...\n",
            "[nltk_data]   Package punkt is already up-to-date!\n"
          ]
        },
        {
          "output_type": "execute_result",
          "data": {
            "text/plain": [
              "True"
            ]
          },
          "metadata": {},
          "execution_count": 21
        }
      ]
    },
    {
      "cell_type": "code",
      "source": [],
      "metadata": {
        "id": "XgDclwlCj0uQ"
      },
      "execution_count": null,
      "outputs": []
    },
    {
      "cell_type": "code",
      "source": [
        "# Sample text\n",
        "text = \"NLTK is a leading platform for building Python programs to work with human language data. There are a lot of libraries available in this toolkit to deal with Natural Language.\"\n"
      ],
      "metadata": {
        "id": "5P7UX9bIgX94"
      },
      "execution_count": null,
      "outputs": []
    },
    {
      "cell_type": "code",
      "source": [
        "# Tokenization using word_tokenize\n",
        "print(\"Word Tokenization:\")\n",
        "print(word_tokenize(text))"
      ],
      "metadata": {
        "colab": {
          "base_uri": "https://localhost:8080/"
        },
        "id": "RGQzc6VvgbEG",
        "outputId": "9639cd56-d287-4851-dc2b-68f142259707"
      },
      "execution_count": null,
      "outputs": [
        {
          "output_type": "stream",
          "name": "stdout",
          "text": [
            "Word Tokenization:\n",
            "['NLTK', 'is', 'a', 'leading', 'platform', 'for', 'building', 'Python', 'programs', 'to', 'work', 'with', 'human', 'language', 'data', '.', 'There', 'are', 'a', 'lot', 'of', 'libraries', 'available', 'in', 'this', 'toolkit', 'to', 'deal', 'with', 'Natural', 'Language', '.']\n"
          ]
        }
      ]
    },
    {
      "cell_type": "code",
      "source": [
        "# Tokenization using sent_tokenize\n",
        "print(\"\\nSentence Tokenization:\")\n",
        "print(sent_tokenize(text))"
      ],
      "metadata": {
        "colab": {
          "base_uri": "https://localhost:8080/"
        },
        "id": "HHQtWHsAgeZD",
        "outputId": "707ee754-74e4-4653-cf7b-79a5f34f0d4c"
      },
      "execution_count": null,
      "outputs": [
        {
          "output_type": "stream",
          "name": "stdout",
          "text": [
            "\n",
            "Sentence Tokenization:\n",
            "['NLTK is a leading platform for building Python programs to work with human language data.', 'There are a lot of libraries available in this toolkit to deal with Natural Language.']\n"
          ]
        }
      ]
    },
    {
      "cell_type": "code",
      "source": [
        "# Tokenization using regexp_tokenize\n",
        "print(\"\\nRegexp Tokenization:\")\n",
        "pattern = r'\\w+'\n",
        "print(regexp_tokenize(text, pattern))"
      ],
      "metadata": {
        "colab": {
          "base_uri": "https://localhost:8080/"
        },
        "id": "cDaclSaOgjB2",
        "outputId": "3a0942fd-5c37-49d2-9e08-88e297ac92ba"
      },
      "execution_count": null,
      "outputs": [
        {
          "output_type": "stream",
          "name": "stdout",
          "text": [
            "\n",
            "Regexp Tokenization:\n",
            "['NLTK', 'is', 'a', 'leading', 'platform', 'for', 'building', 'Python', 'programs', 'to', 'work', 'with', 'human', 'language', 'data', 'There', 'are', 'a', 'lot', 'of', 'libraries', 'available', 'in', 'this', 'toolkit', 'to', 'deal', 'with', 'Natural', 'Language']\n"
          ]
        }
      ]
    },
    {
      "cell_type": "code",
      "source": [
        "# Tokenization using TweetTokenizer\n",
        "print(\"\\nTweet Tokenization:\")\n",
        "tokenizer = TweetTokenizer()\n",
        "print(tokenizer.tokenize(text))"
      ],
      "metadata": {
        "colab": {
          "base_uri": "https://localhost:8080/"
        },
        "id": "MfswjNhTgmvK",
        "outputId": "c1c58413-8f29-4aeb-9b8b-b290c93ec7d3"
      },
      "execution_count": null,
      "outputs": [
        {
          "output_type": "stream",
          "name": "stdout",
          "text": [
            "\n",
            "Tweet Tokenization:\n",
            "['NLTK', 'is', 'a', 'leading', 'platform', 'for', 'building', 'Python', 'programs', 'to', 'work', 'with', 'human', 'language', 'data', '.', 'There', 'are', 'a', 'lot', 'of', 'libraries', 'available', 'in', 'this', 'toolkit', 'to', 'deal', 'with', 'Natural', 'Language', '.']\n"
          ]
        }
      ]
    },
    {
      "cell_type": "code",
      "source": [
        "# Tokenization using WordPunctTokenizer\n",
        "print(\"\\nWord Punctuation Tokenization:\")\n",
        "wordpunct_tokenizer = WordPunctTokenizer()\n",
        "print(wordpunct_tokenizer.tokenize(text))"
      ],
      "metadata": {
        "colab": {
          "base_uri": "https://localhost:8080/"
        },
        "id": "8G-cuBUxiPk6",
        "outputId": "cda9a5c8-1905-4509-971f-f0ddfcaf965d"
      },
      "execution_count": null,
      "outputs": [
        {
          "output_type": "stream",
          "name": "stdout",
          "text": [
            "\n",
            "Word Punctuation Tokenization:\n",
            "['NLTK', 'is', 'a', 'leading', 'platform', 'for', 'building', 'Python', 'programs', 'to', 'work', 'with', 'human', 'language', 'data', '.', 'There', 'are', 'a', 'lot', 'of', 'libraries', 'available', 'in', 'this', 'toolkit', 'to', 'deal', 'with', 'Natural', 'Language', '.']\n"
          ]
        }
      ]
    },
    {
      "cell_type": "code",
      "source": [],
      "metadata": {
        "id": "TWlpvqyHitH7"
      },
      "execution_count": null,
      "outputs": []
    }
  ]
}